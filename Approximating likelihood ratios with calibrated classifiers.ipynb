{
 "cells": [
  {
   "cell_type": "markdown",
   "metadata": {},
   "source": [
    "# Approximating likelihood ratios with calibrated classifiers\n",
    "\n",
    "Gilles Louppe, January 2016.\n"
   ]
  },
  {
   "cell_type": "code",
   "execution_count": 1,
   "metadata": {
    "collapsed": true
   },
   "outputs": [],
   "source": [
    "%matplotlib inline\n",
    "from matplotlib import pyplot as plt\n",
    "import numpy as np\n",
    "import theano\n",
    "import theano.tensor as T"
   ]
  },
  {
   "cell_type": "code",
   "execution_count": 2,
   "metadata": {
    "collapsed": true
   },
   "outputs": [],
   "source": [
    "from sklearn.utils import check_random_state\n",
    "from scipy.optimize import minimize\n",
    "from scipy.stats import chi2, norm"
   ]
  },
  {
   "cell_type": "markdown",
   "metadata": {},
   "source": [
    "## Toy problem\n",
    "\n",
    "Let us consider two 1D distributions $p_0$ and $p_1$ for which we want to approximate the ratio $r(x) = \\frac{p_0(x)}{p_1(x)}$ of their densities.\n",
    "\n",
    "- $p_1$ is defined as a mixture of two gaussians;\n",
    "- $p_0$ is defined as a mixture of the same two gaussians + a bump."
   ]
  },
  {
   "cell_type": "code",
   "execution_count": 3,
   "metadata": {
    "collapsed": false
   },
   "outputs": [],
   "source": [
    "from carl.distributions import Normal\n",
    "from carl.distributions import Mixture\n",
    "\n",
    "components = [\n",
    "    Normal(mu=-2.0, sigma=0.75),   # c0\n",
    "    Normal(mu=0.0, sigma=2.0),     # c1\n",
    "    Normal(mu=1.0, sigma=0.5)      # c2 (bump)\n",
    "]\n",
    "\n",
    "bump_coefficient = 0.05\n",
    "g = theano.shared(bump_coefficient) \n",
    "p0 = Mixture(components=components, weights=[0.5 - g / 2., 0.5 - g / 2., g])\n",
    "p1 = Mixture(components=components[:2], weights=[0.5, 0.5])"
   ]
  },
  {
   "cell_type": "markdown",
   "metadata": {},
   "source": [
    "Note: for $p_0$, weights are all tied together through the Theano shared variable `g`. This means that changes to the value stored in `g` also automatically change the weight values and the resulting mixture."
   ]
  },
  {
   "cell_type": "code",
   "execution_count": 4,
   "metadata": {
    "collapsed": true
   },
   "outputs": [],
   "source": [
    "N_obs_samples=5000\n",
    "X_true = p0.rvs(N_obs_samples)"
   ]
  },
  {
   "cell_type": "code",
   "execution_count": 5,
   "metadata": {
    "collapsed": false
   },
   "outputs": [
    {
     "data": {
      "image/png": "[encoded data removed]",
      "text/plain": [
       "<matplotlib.figure.Figure at 0x10f9ccc88>"
      ]
     },
     "metadata": {},
     "output_type": "display_data"
    }
   ],
   "source": [
    "reals = np.linspace(-5, 5, num=1000)\n",
    "plt.plot(reals, p0.pdf(reals.reshape(-1, 1)), label=r\"$p(x|\\theta_0)$\", color=\"b\")\n",
    "plt.plot(reals, p1.pdf(reals.reshape(-1, 1)), label=r\"$p(x|\\theta_1)$\", color=\"r\")\n",
    "plt.hist(X_true[:, 0], bins=100, normed=True, label=\"data\", alpha=0.2, color=\"b\")\n",
    "plt.xlim(-5, 5)\n",
    "plt.legend(loc=\"best\", prop={'size': 8})\n",
    "plt.show()"
   ]
  },
  {
   "cell_type": "markdown",
   "metadata": {},
   "source": [
    "## Density ratio estimation\n",
    "\n",
    "The density ratio $r(x)$ can be approximated using calibrated classifiers, either directly by learning to classify $x \\sim p_0$ from $x \\sim p_1$, or by decomposing the ratio of the two mixtures as pairs of simpler density ratios."
   ]
  },
  {
   "cell_type": "code",
   "execution_count": 6,
   "metadata": {
    "collapsed": false
   },
   "outputs": [
    {
     "name": "stderr",
     "output_type": "stream",
     "text": [
      "//anaconda/envs/carl-notebooks/lib/python3.5/site-packages/sklearn/cross_validation.py:43: DeprecationWarning: This module has been deprecated in favor of the model_selection module into which all the refactored classes and functions are moved. Also note that the interface of the new CV iterators are different from that of this module. This module will be removed in 0.20.\n",
      "  \"This module will be removed in 0.20.\", DeprecationWarning)\n"
     ]
    },
    {
     "data": {
      "text/plain": [
       "DecomposedRatio(base_ratio=ClassifierRatio(base_estimator=CalibratedClassifierCV(base_estimator=MLPRegressor(activation='logistic', algorithm='l-bfgs', alpha=0.0001,\n",
       "       batch_size=200, beta_1=0.9, beta_2=0.999, early_stopping=False,\n",
       "       epsilon=1e-08, hidden_layer_sizes=(10, 10),\n",
       "       learning_rate='constant', learning_rate_init=1e-...andom_state=0, test_size=0.75,\n",
       "            train_size=None),\n",
       "            eps=0.1, method='isotonic'),\n",
       "        random_state=None))"
      ]
     },
     "execution_count": 6,
     "metadata": {},
     "output_type": "execute_result"
    }
   ],
   "source": [
    "from sklearn.model_selection import GridSearchCV\n",
    "from sklearn.model_selection import StratifiedShuffleSplit\n",
    "\n",
    "from carl.ratios import ClassifierRatio\n",
    "from carl.ratios import DecomposedRatio\n",
    "from carl.learning import CalibratedClassifierCV\n",
    "\n",
    "# Classifier\n",
    "# from sklearn.linear_model import ElasticNetCV\n",
    "# clf = ElasticNetCV()\n",
    "\n",
    "from sklearn.neural_network import MLPRegressor\n",
    "#clf = MLPRegressor(activation=\"tanh\", hidden_layer_sizes=(10, 10), random_state=0)\n",
    "clf = MLPRegressor(tol=1e-05, activation=\"logistic\", \n",
    "                   hidden_layer_sizes=(10, 10), learning_rate_init=1e-07, \n",
    "                   learning_rate=\"constant\", algorithm=\"l-bfgs\", random_state=1, \n",
    "                   max_iter=75)\n",
    "\n",
    "# from sklearn.ensemble import ExtraTreesRegressor\n",
    "# clf = ExtraTreesRegressor(n_estimators=250, max_leaf_nodes=15)\n",
    "\n",
    "n_train_samples = 100000\n",
    "n_calibration_samples = 100000*5\n",
    "\n",
    "# No calibration\n",
    "cc_none = ClassifierRatio(base_estimator=clf)\n",
    "cc_none.fit(numerator=p0, denominator=p1, n_samples=n_train_samples)\n",
    "\n",
    "# Calibration + Direct approximation \n",
    "cv = StratifiedShuffleSplit(n_iter=1, test_size=0.75, random_state=0)  # 25% for training, 75% for calibration\n",
    "cc_direct = ClassifierRatio(base_estimator=CalibratedClassifierCV(clf, cv=cv, method=\"interpolated-isotonic\"))\n",
    "cc_direct.fit(numerator=p0, denominator=p1, n_samples=n_train_samples)\n",
    "\n",
    "# Calibration + Decomposition of the mixture\n",
    "#cc_decomposed = DecomposedRatio(ClassifierRatio(base_estimator=CalibratedClassifierCV(clf, cv=cv,bins=30,\n",
    "#                                                                                     method=\"interpolated-isotonic\")))\n",
    "cc_decomposed = DecomposedRatio(ClassifierRatio(base_estimator=CalibratedClassifierCV(clf, cv=cv,bins=30,\n",
    "                                                                                     method=\"isotonic\")))\n",
    "\n",
    "cc_decomposed.fit(numerator=p0, denominator=p1, n_samples=n_calibration_samples)"
   ]
  },
  {
   "cell_type": "markdown",
   "metadata": {},
   "source": [
    "Note: `CalibratedClassifierRatio` takes three arguments for controlling its execution:\n",
    "- `base_estimator` specifying the classifier to be used,\n",
    "- `calibration` specifying the calibration algorithm (`\"kde\"`, `\"histogram\"`, or a user-defined distribution-like object),\n",
    "- `cv` specifying how to allocate data for training and calibration."
   ]
  },
  {
   "cell_type": "code",
   "execution_count": 7,
   "metadata": {
    "collapsed": false
   },
   "outputs": [
    {
     "ename": "TypeError",
     "evalue": "'NoneType' object is not subscriptable",
     "output_type": "error",
     "traceback": [
      "\u001b[0;31m---------------------------------------------------------------------------\u001b[0m",
      "\u001b[0;31mTypeError\u001b[0m                                 Traceback (most recent call last)",
      "\u001b[0;32m<ipython-input-7-f270544e2148>\u001b[0m in \u001b[0;36m<module>\u001b[0;34m()\u001b[0m\n\u001b[1;32m      4\u001b[0m \u001b[0;34m\u001b[0m\u001b[0m\n\u001b[1;32m      5\u001b[0m \u001b[0mplt\u001b[0m\u001b[0;34m.\u001b[0m\u001b[0mplot\u001b[0m\u001b[0;34m(\u001b[0m\u001b[0mreals\u001b[0m\u001b[0;34m,\u001b[0m \u001b[0mcc_none\u001b[0m\u001b[0;34m.\u001b[0m\u001b[0mpredict\u001b[0m\u001b[0;34m(\u001b[0m\u001b[0mreals\u001b[0m\u001b[0;34m.\u001b[0m\u001b[0mreshape\u001b[0m\u001b[0;34m(\u001b[0m\u001b[0;34m-\u001b[0m\u001b[0;36m1\u001b[0m\u001b[0;34m,\u001b[0m \u001b[0;36m1\u001b[0m\u001b[0;34m)\u001b[0m\u001b[0;34m,\u001b[0m \u001b[0mlog\u001b[0m\u001b[0;34m=\u001b[0m\u001b[0;32mTrue\u001b[0m\u001b[0;34m)\u001b[0m\u001b[0;34m,\u001b[0m \u001b[0mlabel\u001b[0m\u001b[0;34m=\u001b[0m\u001b[0;34m\"No calibration\"\u001b[0m\u001b[0;34m)\u001b[0m\u001b[0;34m\u001b[0m\u001b[0m\n\u001b[0;32m----> 6\u001b[0;31m \u001b[0mplt\u001b[0m\u001b[0;34m.\u001b[0m\u001b[0mplot\u001b[0m\u001b[0;34m(\u001b[0m\u001b[0mreals\u001b[0m\u001b[0;34m,\u001b[0m \u001b[0mcc_direct\u001b[0m\u001b[0;34m.\u001b[0m\u001b[0mpredict\u001b[0m\u001b[0;34m(\u001b[0m\u001b[0mreals\u001b[0m\u001b[0;34m.\u001b[0m\u001b[0mreshape\u001b[0m\u001b[0;34m(\u001b[0m\u001b[0;34m-\u001b[0m\u001b[0;36m1\u001b[0m\u001b[0;34m,\u001b[0m \u001b[0;36m1\u001b[0m\u001b[0;34m)\u001b[0m\u001b[0;34m,\u001b[0m \u001b[0mlog\u001b[0m\u001b[0;34m=\u001b[0m\u001b[0;32mTrue\u001b[0m\u001b[0;34m)\u001b[0m\u001b[0;34m,\u001b[0m \u001b[0mlabel\u001b[0m\u001b[0;34m=\u001b[0m\u001b[0;34m\"Calibration\"\u001b[0m\u001b[0;34m)\u001b[0m\u001b[0;34m\u001b[0m\u001b[0m\n\u001b[0m\u001b[1;32m      7\u001b[0m \u001b[0mplt\u001b[0m\u001b[0;34m.\u001b[0m\u001b[0mplot\u001b[0m\u001b[0;34m(\u001b[0m\u001b[0mreals\u001b[0m\u001b[0;34m,\u001b[0m \u001b[0mcc_decomposed\u001b[0m\u001b[0;34m.\u001b[0m\u001b[0mpredict\u001b[0m\u001b[0;34m(\u001b[0m\u001b[0mreals\u001b[0m\u001b[0;34m.\u001b[0m\u001b[0mreshape\u001b[0m\u001b[0;34m(\u001b[0m\u001b[0;34m-\u001b[0m\u001b[0;36m1\u001b[0m\u001b[0;34m,\u001b[0m \u001b[0;36m1\u001b[0m\u001b[0;34m)\u001b[0m\u001b[0;34m,\u001b[0m \u001b[0mlog\u001b[0m\u001b[0;34m=\u001b[0m\u001b[0;32mTrue\u001b[0m\u001b[0;34m)\u001b[0m\u001b[0;34m,\u001b[0m \u001b[0mlabel\u001b[0m\u001b[0;34m=\u001b[0m\u001b[0;34m\"Calibration + Decomposition\"\u001b[0m\u001b[0;34m)\u001b[0m\u001b[0;34m\u001b[0m\u001b[0m\n\u001b[1;32m      8\u001b[0m \u001b[0;34m\u001b[0m\u001b[0m\n",
      "\u001b[0;32m//anaconda/envs/carl-notebooks/lib/python3.5/site-packages/carl-0.0-py3.5.egg/carl/ratios/classifier.py\u001b[0m in \u001b[0;36mpredict\u001b[0;34m(self, X, log, **kwargs)\u001b[0m\n\u001b[1;32m     70\u001b[0m \u001b[0;34m\u001b[0m\u001b[0m\n\u001b[1;32m     71\u001b[0m             \u001b[0;32mif\u001b[0m \u001b[0mlog\u001b[0m\u001b[0;34m:\u001b[0m\u001b[0;34m\u001b[0m\u001b[0m\n\u001b[0;32m---> 72\u001b[0;31m                 \u001b[0;32mreturn\u001b[0m \u001b[0mnp\u001b[0m\u001b[0;34m.\u001b[0m\u001b[0mlog\u001b[0m\u001b[0;34m(\u001b[0m\u001b[0mp\u001b[0m\u001b[0;34m[\u001b[0m\u001b[0;34m:\u001b[0m\u001b[0;34m,\u001b[0m \u001b[0;36m0\u001b[0m\u001b[0;34m]\u001b[0m\u001b[0;34m)\u001b[0m \u001b[0;34m-\u001b[0m \u001b[0mnp\u001b[0m\u001b[0;34m.\u001b[0m\u001b[0mlog\u001b[0m\u001b[0;34m(\u001b[0m\u001b[0mp\u001b[0m\u001b[0;34m[\u001b[0m\u001b[0;34m:\u001b[0m\u001b[0;34m,\u001b[0m \u001b[0;36m1\u001b[0m\u001b[0;34m]\u001b[0m\u001b[0;34m)\u001b[0m\u001b[0;34m\u001b[0m\u001b[0m\n\u001b[0m\u001b[1;32m     73\u001b[0m             \u001b[0;32melse\u001b[0m\u001b[0;34m:\u001b[0m\u001b[0;34m\u001b[0m\u001b[0m\n\u001b[1;32m     74\u001b[0m                 \u001b[0;32mreturn\u001b[0m \u001b[0mnp\u001b[0m\u001b[0;34m.\u001b[0m\u001b[0mdivide\u001b[0m\u001b[0;34m(\u001b[0m\u001b[0mp\u001b[0m\u001b[0;34m[\u001b[0m\u001b[0;34m:\u001b[0m\u001b[0;34m,\u001b[0m \u001b[0;36m0\u001b[0m\u001b[0;34m]\u001b[0m\u001b[0;34m,\u001b[0m \u001b[0mp\u001b[0m\u001b[0;34m[\u001b[0m\u001b[0;34m:\u001b[0m\u001b[0;34m,\u001b[0m \u001b[0;36m1\u001b[0m\u001b[0;34m]\u001b[0m\u001b[0;34m)\u001b[0m\u001b[0;34m\u001b[0m\u001b[0m\n",
      "\u001b[0;31mTypeError\u001b[0m: 'NoneType' object is not subscriptable"
     ]
    },
    {
     "data": {
      "image/png": "[encoded data removed]",
      "text/plain": [
       "<matplotlib.figure.Figure at 0x112f2ce80>"
      ]
     },
     "metadata": {},
     "output_type": "display_data"
    }
   ],
   "source": [
    "reals = np.linspace(-4, 4, num=1000)\n",
    "plt.plot(reals, -p0.nnlf(reals.reshape(-1, 1))  \n",
    "                +p1.nnlf(reals.reshape(-1, 1)), label=\"True ratio\")\n",
    "\n",
    "plt.plot(reals, cc_none.predict(reals.reshape(-1, 1), log=True), label=\"No calibration\")\n",
    "plt.plot(reals, cc_direct.predict(reals.reshape(-1, 1), log=True), label=\"Calibration\")\n",
    "plt.plot(reals, cc_decomposed.predict(reals.reshape(-1, 1), log=True), label=\"Calibration + Decomposition\")\n",
    "\n",
    "plt.xlim(-5, 5)\n",
    "plt.ylim(-0.5, 1.)\n",
    "plt.legend(loc=\"best\", prop={'size': 8})\n",
    "plt.show()"
   ]
  },
  {
   "cell_type": "markdown",
   "metadata": {},
   "source": [
    "## Using density ratios for maximum likelihood fit\n",
    "\n",
    "In the likelihood-free setting, density ratios can be used to find the maximum likelihood estimator $\\theta^* = \\arg \\max_{\\theta} p(D | \\theta)$ by noticing that $\\theta^*$ also maximizes $\\prod_{x \\in D} \\frac{p(x|\\theta)}{p(x|\\theta_1)}$ for some fixed value of $\\theta_1$.\n",
    "\n",
    "As an example, this can be used to find the bump coefficient in $p_1$, as illustrated below:"
   ]
  },
  {
   "cell_type": "code",
   "execution_count": 8,
   "metadata": {
    "collapsed": false
   },
   "outputs": [
    {
     "data": {
      "text/plain": [
       "array([ 0.        ,  0.        ,  0.        ,  0.16666667,  0.38888889,\n",
       "        0.61111111,  0.83333333,  0.        ,  0.        ,  0.        ])"
      ]
     },
     "execution_count": 8,
     "metadata": {},
     "output_type": "execute_result"
    }
   ],
   "source": [
    "from scipy.interpolate import interp1d\n",
    "dummy = interp1d([0,1],[0,1])\n",
    "dummy_x = np.linspace(-.5,1.5,10)\n",
    "dummy_mask = (dummy_x > 0) * (dummy_x < 1)\n",
    "dummy_y = np.zeros(dummy_x.size)\n",
    "dummy_y[dummy_mask] = dummy(dummy_x[dummy_mask])\n",
    "dummy_y"
   ]
  },
  {
   "cell_type": "markdown",
   "metadata": {},
   "source": [
    "## likelihood plot"
   ]
  },
  {
   "cell_type": "code",
   "execution_count": 20,
   "metadata": {
    "collapsed": true
   },
   "outputs": [],
   "source": [
    "def vectorize(func):\n",
    "    def wrapper(X):\n",
    "        v = np.zeros(len(X))\n",
    "        \n",
    "        for i, x_i in enumerate(X):\n",
    "            v[i] = func(x_i)\n",
    "            \n",
    "        return v.reshape(-1, 1)\n",
    "    \n",
    "    return wrapper"
   ]
  },
  {
   "cell_type": "code",
   "execution_count": 21,
   "metadata": {
    "collapsed": false
   },
   "outputs": [],
   "source": [
    "def nll_true(theta, data=X_true):       \n",
    "    g.set_value(theta)  # this indirectly updates weights in p1, \n",
    "                           # along with the density ratios computed by cc \n",
    "                           # (without having to retrain the classifiers since \n",
    "                           # g only affects the weights!)\n",
    "\n",
    "    return (p0.nnlf(data) - p1.nnlf(data)).sum()\n",
    "\n",
    "def nll_approx(theta, data=X_true):       \n",
    "    g.set_value(theta)  # this indirectly updates weights in p1, \n",
    "                           # along with the density ratios computed by cc \n",
    "                           # (without having to retrain the classifiers since \n",
    "                           # g only affects the weights!)\n",
    "\n",
    "    cc = cc_decomposed\n",
    "\n",
    "    # do we need to refit since p0 changed?\n",
    "    #cc.fit(numerator=p0, denominator=p1, n_samples=n_calibration_samples)\n",
    "    \n",
    "    return -np.sum(cc.predict(data, log=True))"
   ]
  },
  {
   "cell_type": "code",
   "execution_count": 22,
   "metadata": {
    "collapsed": false
   },
   "outputs": [
    {
     "ename": "ValueError",
     "evalue": "A value in x_new is below the interpolation range.",
     "output_type": "error",
     "traceback": [
      "\u001b[0;31m---------------------------------------------------------------------------\u001b[0m",
      "\u001b[0;31mValueError\u001b[0m                                Traceback (most recent call last)",
      "\u001b[0;32m<ipython-input-22-618f38b6dcbb>\u001b[0m in \u001b[0;36m<module>\u001b[0;34m()\u001b[0m\n\u001b[1;32m      1\u001b[0m \u001b[0mg_scan\u001b[0m \u001b[0;34m=\u001b[0m \u001b[0mnp\u001b[0m\u001b[0;34m.\u001b[0m\u001b[0mlinspace\u001b[0m\u001b[0;34m(\u001b[0m\u001b[0;36m0.0\u001b[0m\u001b[0;34m,\u001b[0m \u001b[0;36m2\u001b[0m\u001b[0;34m*\u001b[0m\u001b[0mbump_coefficient\u001b[0m\u001b[0;34m,\u001b[0m\u001b[0;36m30\u001b[0m\u001b[0;34m)\u001b[0m\u001b[0;34m\u001b[0m\u001b[0m\n\u001b[1;32m      2\u001b[0m \u001b[0mnll_true_scan\u001b[0m \u001b[0;34m=\u001b[0m \u001b[0mvectorize\u001b[0m\u001b[0;34m(\u001b[0m\u001b[0mnll_true\u001b[0m\u001b[0;34m)\u001b[0m\u001b[0;34m(\u001b[0m\u001b[0mg_scan\u001b[0m\u001b[0;34m)\u001b[0m\u001b[0;34m\u001b[0m\u001b[0m\n\u001b[0;32m----> 3\u001b[0;31m \u001b[0mnll_approx_scan\u001b[0m \u001b[0;34m=\u001b[0m \u001b[0mvectorize\u001b[0m\u001b[0;34m(\u001b[0m\u001b[0mnll_approx\u001b[0m\u001b[0;34m)\u001b[0m\u001b[0;34m(\u001b[0m\u001b[0mg_scan\u001b[0m\u001b[0;34m)\u001b[0m\u001b[0;34m\u001b[0m\u001b[0m\n\u001b[0m\u001b[1;32m      4\u001b[0m \u001b[0;34m\u001b[0m\u001b[0m\n\u001b[1;32m      5\u001b[0m \u001b[0mplt\u001b[0m\u001b[0;34m.\u001b[0m\u001b[0mplot\u001b[0m\u001b[0;34m(\u001b[0m\u001b[0mg_scan\u001b[0m\u001b[0;34m,\u001b[0m \u001b[0mnll_true_scan\u001b[0m\u001b[0;34m-\u001b[0m\u001b[0mnll_true_scan\u001b[0m\u001b[0;34m.\u001b[0m\u001b[0mmin\u001b[0m\u001b[0;34m(\u001b[0m\u001b[0;34m)\u001b[0m\u001b[0;34m)\u001b[0m\u001b[0;34m\u001b[0m\u001b[0m\n",
      "\u001b[0;32m<ipython-input-20-0f490248c53b>\u001b[0m in \u001b[0;36mwrapper\u001b[0;34m(X)\u001b[0m\n\u001b[1;32m      4\u001b[0m \u001b[0;34m\u001b[0m\u001b[0m\n\u001b[1;32m      5\u001b[0m         \u001b[0;32mfor\u001b[0m \u001b[0mi\u001b[0m\u001b[0;34m,\u001b[0m \u001b[0mx_i\u001b[0m \u001b[0;32min\u001b[0m \u001b[0menumerate\u001b[0m\u001b[0;34m(\u001b[0m\u001b[0mX\u001b[0m\u001b[0;34m)\u001b[0m\u001b[0;34m:\u001b[0m\u001b[0;34m\u001b[0m\u001b[0m\n\u001b[0;32m----> 6\u001b[0;31m             \u001b[0mv\u001b[0m\u001b[0;34m[\u001b[0m\u001b[0mi\u001b[0m\u001b[0;34m]\u001b[0m \u001b[0;34m=\u001b[0m \u001b[0mfunc\u001b[0m\u001b[0;34m(\u001b[0m\u001b[0mx_i\u001b[0m\u001b[0;34m)\u001b[0m\u001b[0;34m\u001b[0m\u001b[0m\n\u001b[0m\u001b[1;32m      7\u001b[0m \u001b[0;34m\u001b[0m\u001b[0m\n\u001b[1;32m      8\u001b[0m         \u001b[0;32mreturn\u001b[0m \u001b[0mv\u001b[0m\u001b[0;34m.\u001b[0m\u001b[0mreshape\u001b[0m\u001b[0;34m(\u001b[0m\u001b[0;34m-\u001b[0m\u001b[0;36m1\u001b[0m\u001b[0;34m,\u001b[0m \u001b[0;36m1\u001b[0m\u001b[0;34m)\u001b[0m\u001b[0;34m\u001b[0m\u001b[0m\n",
      "\u001b[0;32m<ipython-input-21-83dbbf529f4a>\u001b[0m in \u001b[0;36mnll_approx\u001b[0;34m(theta, data)\u001b[0m\n\u001b[1;32m     18\u001b[0m     \u001b[0;31m#cc.fit(numerator=p0, denominator=p1, n_samples=n_calibration_samples)\u001b[0m\u001b[0;34m\u001b[0m\u001b[0;34m\u001b[0m\u001b[0m\n\u001b[1;32m     19\u001b[0m \u001b[0;34m\u001b[0m\u001b[0m\n\u001b[0;32m---> 20\u001b[0;31m     \u001b[0;32mreturn\u001b[0m \u001b[0;34m-\u001b[0m\u001b[0mnp\u001b[0m\u001b[0;34m.\u001b[0m\u001b[0msum\u001b[0m\u001b[0;34m(\u001b[0m\u001b[0mcc\u001b[0m\u001b[0;34m.\u001b[0m\u001b[0mpredict\u001b[0m\u001b[0;34m(\u001b[0m\u001b[0mdata\u001b[0m\u001b[0;34m,\u001b[0m \u001b[0mlog\u001b[0m\u001b[0;34m=\u001b[0m\u001b[0;32mTrue\u001b[0m\u001b[0;34m)\u001b[0m\u001b[0;34m)\u001b[0m\u001b[0;34m\u001b[0m\u001b[0m\n\u001b[0m",
      "\u001b[0;32m//anaconda/envs/carl-notebooks/lib/python3.5/site-packages/carl-0.0-py3.5.egg/carl/ratios/base.py\u001b[0m in \u001b[0;36mpredict\u001b[0;34m(self, X, log, **kwargs)\u001b[0m\n\u001b[1;32m    105\u001b[0m \u001b[0;34m\u001b[0m\u001b[0m\n\u001b[1;32m    106\u001b[0m                 \u001b[0;32mfor\u001b[0m \u001b[0mj\u001b[0m\u001b[0;34m,\u001b[0m \u001b[0mw_j\u001b[0m \u001b[0;32min\u001b[0m \u001b[0menumerate\u001b[0m\u001b[0;34m(\u001b[0m\u001b[0mw_den\u001b[0m\u001b[0;34m)\u001b[0m\u001b[0;34m:\u001b[0m\u001b[0;34m\u001b[0m\u001b[0m\n\u001b[0;32m--> 107\u001b[0;31m                     \u001b[0ms\u001b[0m \u001b[0;34m+=\u001b[0m \u001b[0mw_j\u001b[0m \u001b[0;34m*\u001b[0m \u001b[0mself\u001b[0m\u001b[0;34m.\u001b[0m\u001b[0mratios_\u001b[0m\u001b[0;34m[\u001b[0m\u001b[0;34m(\u001b[0m\u001b[0mj\u001b[0m\u001b[0;34m,\u001b[0m \u001b[0mi\u001b[0m\u001b[0;34m)\u001b[0m\u001b[0;34m]\u001b[0m\u001b[0;34m.\u001b[0m\u001b[0mpredict\u001b[0m\u001b[0;34m(\u001b[0m\u001b[0mX\u001b[0m\u001b[0;34m,\u001b[0m \u001b[0;34m**\u001b[0m\u001b[0mkwargs\u001b[0m\u001b[0;34m)\u001b[0m\u001b[0;34m\u001b[0m\u001b[0m\n\u001b[0m\u001b[1;32m    108\u001b[0m \u001b[0;34m\u001b[0m\u001b[0m\n\u001b[1;32m    109\u001b[0m                 \u001b[0mr\u001b[0m \u001b[0;34m+=\u001b[0m \u001b[0mw_i\u001b[0m \u001b[0;34m/\u001b[0m \u001b[0ms\u001b[0m\u001b[0;34m\u001b[0m\u001b[0m\n",
      "\u001b[0;32m//anaconda/envs/carl-notebooks/lib/python3.5/site-packages/carl-0.0-py3.5.egg/carl/ratios/classifier.py\u001b[0m in \u001b[0;36mpredict\u001b[0;34m(self, X, log, **kwargs)\u001b[0m\n\u001b[1;32m     67\u001b[0m \u001b[0;34m\u001b[0m\u001b[0m\n\u001b[1;32m     68\u001b[0m         \u001b[0;32melse\u001b[0m\u001b[0;34m:\u001b[0m\u001b[0;34m\u001b[0m\u001b[0m\n\u001b[0;32m---> 69\u001b[0;31m             \u001b[0mp\u001b[0m \u001b[0;34m=\u001b[0m \u001b[0mself\u001b[0m\u001b[0;34m.\u001b[0m\u001b[0mclassifier_\u001b[0m\u001b[0;34m.\u001b[0m\u001b[0mpredict_proba\u001b[0m\u001b[0;34m(\u001b[0m\u001b[0mX\u001b[0m\u001b[0;34m)\u001b[0m\u001b[0;34m\u001b[0m\u001b[0m\n\u001b[0m\u001b[1;32m     70\u001b[0m \u001b[0;34m\u001b[0m\u001b[0m\n\u001b[1;32m     71\u001b[0m             \u001b[0;32mif\u001b[0m \u001b[0mlog\u001b[0m\u001b[0;34m:\u001b[0m\u001b[0;34m\u001b[0m\u001b[0m\n",
      "\u001b[0;32m//anaconda/envs/carl-notebooks/lib/python3.5/site-packages/carl-0.0-py3.5.egg/carl/learning/calibration.py\u001b[0m in \u001b[0;36mpredict_proba\u001b[0;34m(self, X)\u001b[0m\n\u001b[1;32m    160\u001b[0m \u001b[0;34m\u001b[0m\u001b[0m\n\u001b[1;32m    161\u001b[0m         \u001b[0;32melif\u001b[0m \u001b[0mself\u001b[0m\u001b[0;34m.\u001b[0m\u001b[0mmethod\u001b[0m \u001b[0;34m==\u001b[0m \u001b[0;34m\"interpolated-isotonic\"\u001b[0m\u001b[0;34m:\u001b[0m\u001b[0;34m\u001b[0m\u001b[0m\n\u001b[0;32m--> 162\u001b[0;31m             \u001b[0mself\u001b[0m\u001b[0;34m.\u001b[0m\u001b[0minterp_iso_\u001b[0m\u001b[0;34m.\u001b[0m\u001b[0mpredict\u001b[0m\u001b[0;34m(\u001b[0m \u001b[0mself\u001b[0m\u001b[0;34m.\u001b[0m\u001b[0mclassifiers_\u001b[0m\u001b[0;34m[\u001b[0m\u001b[0;36m0\u001b[0m\u001b[0;34m]\u001b[0m\u001b[0;34m.\u001b[0m\u001b[0mpredict_proba\u001b[0m\u001b[0;34m(\u001b[0m\u001b[0mX\u001b[0m\u001b[0;34m)\u001b[0m \u001b[0;34m)\u001b[0m\u001b[0;34m\u001b[0m\u001b[0m\n\u001b[0m\u001b[1;32m    163\u001b[0m \u001b[0;34m\u001b[0m\u001b[0m\n\u001b[1;32m    164\u001b[0m         \u001b[0;32melse\u001b[0m\u001b[0;34m:\u001b[0m\u001b[0;34m\u001b[0m\u001b[0m\n",
      "\u001b[0;32m//anaconda/envs/carl-notebooks/lib/python3.5/site-packages/carl-0.0-py3.5.egg/carl/learning/calibration.py\u001b[0m in \u001b[0;36mpredict\u001b[0;34m(self, T)\u001b[0m\n\u001b[1;32m    259\u001b[0m             \u001b[0mTransformed\u001b[0m \u001b[0mdata\u001b[0m\u001b[0;34m.\u001b[0m\u001b[0;34m\u001b[0m\u001b[0m\n\u001b[1;32m    260\u001b[0m         \"\"\"\n\u001b[0;32m--> 261\u001b[0;31m         \u001b[0;32mreturn\u001b[0m \u001b[0mself\u001b[0m\u001b[0;34m.\u001b[0m\u001b[0mtransform\u001b[0m\u001b[0;34m(\u001b[0m\u001b[0mT\u001b[0m\u001b[0;34m)\u001b[0m\u001b[0;34m\u001b[0m\u001b[0m\n\u001b[0m\u001b[1;32m    262\u001b[0m \u001b[0;34m\u001b[0m\u001b[0m\n\u001b[1;32m    263\u001b[0m \u001b[0;34m\u001b[0m\u001b[0m\n",
      "\u001b[0;32m//anaconda/envs/carl-notebooks/lib/python3.5/site-packages/carl-0.0-py3.5.egg/carl/learning/calibration.py\u001b[0m in \u001b[0;36mtransform\u001b[0;34m(self, T)\u001b[0m\n\u001b[1;32m    245\u001b[0m             \u001b[0mThe\u001b[0m \u001b[0mtransformed\u001b[0m \u001b[0mdata\u001b[0m\u001b[0;34m\u001b[0m\u001b[0m\n\u001b[1;32m    246\u001b[0m         \"\"\"\n\u001b[0;32m--> 247\u001b[0;31m         \u001b[0;32mreturn\u001b[0m \u001b[0;36m0.5\u001b[0m\u001b[0;34m*\u001b[0m\u001b[0;34m(\u001b[0m\u001b[0mself\u001b[0m\u001b[0;34m.\u001b[0m\u001b[0miso_interp1_\u001b[0m\u001b[0;34m(\u001b[0m\u001b[0mT\u001b[0m\u001b[0;34m)\u001b[0m\u001b[0;34m+\u001b[0m\u001b[0mself\u001b[0m\u001b[0;34m.\u001b[0m\u001b[0miso_interp2_\u001b[0m\u001b[0;34m(\u001b[0m\u001b[0mT\u001b[0m\u001b[0;34m)\u001b[0m\u001b[0;34m)\u001b[0m\u001b[0;34m\u001b[0m\u001b[0m\n\u001b[0m\u001b[1;32m    248\u001b[0m \u001b[0;34m\u001b[0m\u001b[0m\n\u001b[1;32m    249\u001b[0m \u001b[0;34m\u001b[0m\u001b[0m\n",
      "\u001b[0;32m//anaconda/envs/carl-notebooks/lib/python3.5/site-packages/scipy/interpolate/polyint.py\u001b[0m in \u001b[0;36m__call__\u001b[0;34m(self, x)\u001b[0m\n\u001b[1;32m     78\u001b[0m         \"\"\"\n\u001b[1;32m     79\u001b[0m         \u001b[0mx\u001b[0m\u001b[0;34m,\u001b[0m \u001b[0mx_shape\u001b[0m \u001b[0;34m=\u001b[0m \u001b[0mself\u001b[0m\u001b[0;34m.\u001b[0m\u001b[0m_prepare_x\u001b[0m\u001b[0;34m(\u001b[0m\u001b[0mx\u001b[0m\u001b[0;34m)\u001b[0m\u001b[0;34m\u001b[0m\u001b[0m\n\u001b[0;32m---> 80\u001b[0;31m         \u001b[0my\u001b[0m \u001b[0;34m=\u001b[0m \u001b[0mself\u001b[0m\u001b[0;34m.\u001b[0m\u001b[0m_evaluate\u001b[0m\u001b[0;34m(\u001b[0m\u001b[0mx\u001b[0m\u001b[0;34m)\u001b[0m\u001b[0;34m\u001b[0m\u001b[0m\n\u001b[0m\u001b[1;32m     81\u001b[0m         \u001b[0;32mreturn\u001b[0m \u001b[0mself\u001b[0m\u001b[0;34m.\u001b[0m\u001b[0m_finish_y\u001b[0m\u001b[0;34m(\u001b[0m\u001b[0my\u001b[0m\u001b[0;34m,\u001b[0m \u001b[0mx_shape\u001b[0m\u001b[0;34m)\u001b[0m\u001b[0;34m\u001b[0m\u001b[0m\n\u001b[1;32m     82\u001b[0m \u001b[0;34m\u001b[0m\u001b[0m\n",
      "\u001b[0;32m//anaconda/envs/carl-notebooks/lib/python3.5/site-packages/scipy/interpolate/interpolate.py\u001b[0m in \u001b[0;36m_evaluate\u001b[0;34m(self, x_new)\u001b[0m\n\u001b[1;32m    584\u001b[0m         \u001b[0my_new\u001b[0m \u001b[0;34m=\u001b[0m \u001b[0mself\u001b[0m\u001b[0;34m.\u001b[0m\u001b[0m_call\u001b[0m\u001b[0;34m(\u001b[0m\u001b[0mself\u001b[0m\u001b[0;34m,\u001b[0m \u001b[0mx_new\u001b[0m\u001b[0;34m)\u001b[0m\u001b[0;34m\u001b[0m\u001b[0m\n\u001b[1;32m    585\u001b[0m         \u001b[0;32mif\u001b[0m \u001b[0;32mnot\u001b[0m \u001b[0mself\u001b[0m\u001b[0;34m.\u001b[0m\u001b[0m_extrapolate\u001b[0m\u001b[0;34m:\u001b[0m\u001b[0;34m\u001b[0m\u001b[0m\n\u001b[0;32m--> 586\u001b[0;31m             \u001b[0mbelow_bounds\u001b[0m\u001b[0;34m,\u001b[0m \u001b[0mabove_bounds\u001b[0m \u001b[0;34m=\u001b[0m \u001b[0mself\u001b[0m\u001b[0;34m.\u001b[0m\u001b[0m_check_bounds\u001b[0m\u001b[0;34m(\u001b[0m\u001b[0mx_new\u001b[0m\u001b[0;34m)\u001b[0m\u001b[0;34m\u001b[0m\u001b[0m\n\u001b[0m\u001b[1;32m    587\u001b[0m             \u001b[0;32mif\u001b[0m \u001b[0mlen\u001b[0m\u001b[0;34m(\u001b[0m\u001b[0my_new\u001b[0m\u001b[0;34m)\u001b[0m \u001b[0;34m>\u001b[0m \u001b[0;36m0\u001b[0m\u001b[0;34m:\u001b[0m\u001b[0;34m\u001b[0m\u001b[0m\n\u001b[1;32m    588\u001b[0m                 \u001b[0;31m# Note fill_value must be broadcast up to the proper size\u001b[0m\u001b[0;34m\u001b[0m\u001b[0;34m\u001b[0m\u001b[0m\n",
      "\u001b[0;32m//anaconda/envs/carl-notebooks/lib/python3.5/site-packages/scipy/interpolate/interpolate.py\u001b[0m in \u001b[0;36m_check_bounds\u001b[0;34m(self, x_new)\u001b[0m\n\u001b[1;32m    613\u001b[0m         \u001b[0;31m# !! Could provide more information about which values are out of bounds\u001b[0m\u001b[0;34m\u001b[0m\u001b[0;34m\u001b[0m\u001b[0m\n\u001b[1;32m    614\u001b[0m         \u001b[0;32mif\u001b[0m \u001b[0mself\u001b[0m\u001b[0;34m.\u001b[0m\u001b[0mbounds_error\u001b[0m \u001b[0;32mand\u001b[0m \u001b[0mbelow_bounds\u001b[0m\u001b[0;34m.\u001b[0m\u001b[0many\u001b[0m\u001b[0;34m(\u001b[0m\u001b[0;34m)\u001b[0m\u001b[0;34m:\u001b[0m\u001b[0;34m\u001b[0m\u001b[0m\n\u001b[0;32m--> 615\u001b[0;31m             raise ValueError(\"A value in x_new is below the interpolation \"\n\u001b[0m\u001b[1;32m    616\u001b[0m                 \"range.\")\n\u001b[1;32m    617\u001b[0m         \u001b[0;32mif\u001b[0m \u001b[0mself\u001b[0m\u001b[0;34m.\u001b[0m\u001b[0mbounds_error\u001b[0m \u001b[0;32mand\u001b[0m \u001b[0mabove_bounds\u001b[0m\u001b[0;34m.\u001b[0m\u001b[0many\u001b[0m\u001b[0;34m(\u001b[0m\u001b[0;34m)\u001b[0m\u001b[0;34m:\u001b[0m\u001b[0;34m\u001b[0m\u001b[0m\n",
      "\u001b[0;31mValueError\u001b[0m: A value in x_new is below the interpolation range."
     ]
    }
   ],
   "source": [
    "g_scan = np.linspace(0.0, 2*bump_coefficient,30)\n",
    "nll_true_scan = vectorize(nll_true)(g_scan)\n",
    "nll_approx_scan = vectorize(nll_approx)(g_scan)\n",
    "\n",
    "plt.plot(g_scan, nll_true_scan-nll_true_scan.min())\n",
    "plt.plot(g_scan, nll_approx_scan-nll_approx_scan.min())\n"
   ]
  },
  {
   "cell_type": "markdown",
   "metadata": {},
   "source": [
    "## ensemble tests\n",
    "\n",
    "Noticing some bias, but the bias is also present for the true likelihood"
   ]
  },
  {
   "cell_type": "code",
   "execution_count": 11,
   "metadata": {
    "collapsed": false
   },
   "outputs": [
    {
     "name": "stdout",
     "output_type": "stream",
     "text": [
      "0\n",
      "nll:  -34.0377682997 -33.9949545186\n",
      "100\n",
      "nll:  -33.9823596427 -33.9197870641\n",
      "200\n",
      "nll:  -35.572266509 -35.4538018639\n",
      "300\n",
      "nll:  -38.5753591449 -38.191699391\n",
      "400\n",
      "nll:  -24.191474729 -23.7262400504\n",
      "500\n",
      "nll:  -20.6960018262 -19.7313162758\n",
      "600\n",
      "nll:  -16.6476725846 -14.4975781163\n",
      "700\n",
      "nll:  -34.0422930325 -33.9820323334\n",
      "800\n",
      "nll:  -28.7353236329 -28.6908367819\n",
      "900\n",
      "nll:  -34.420782014 -34.3603773852\n"
     ]
    }
   ],
   "source": [
    "n_trials = 1000\n",
    "true_mles = []\n",
    "true_nll = []\n",
    "approx_mles = []\n",
    "approx_nll = []\n",
    "\n",
    "for i in range(n_trials):  \n",
    "    # Reset\n",
    "    rng = check_random_state(i)\n",
    "    #p0.set_params(random_state=rng)\n",
    "    #p1.set_params(random_state=rng)\n",
    "    \n",
    "    g.set_value(bump_coefficient)\n",
    "    X_toy = p0.rvs(N_obs_samples,random_state=rng)\n",
    "    \n",
    "\n",
    "\n",
    "    # do fits for true likelihood\n",
    "    def true_objective(theta):       \n",
    "        return nll_true(theta[0], data=X_toy)\n",
    "    \n",
    "    # debugging\n",
    "    def true_objective2(theta):\n",
    "        g.set_value(theta[0])\n",
    "        \n",
    "        return (p0.nnlf(X_toy) - p1.nnlf(X_toy)).sum()\n",
    "\n",
    "\n",
    "    true_objective=true_objective2\n",
    "    results = minimize(true_objective, x0=[0.1], \n",
    "                       constraints=[{'type':'ineq', 'fun': lambda x: x[0]},\n",
    "                                    {'type':'ineq', 'fun': lambda x: 1. - x[0]},])\n",
    "\n",
    "    # add NLL evaluate at true point\n",
    "    nll_at_mle = results.fun\n",
    "\n",
    "    true_mles.append(results.x[0])\n",
    "    g.set_value(bump_coefficient)\n",
    "    nll_at_true = true_objective([bump_coefficient])\n",
    "    true_nll.append(2.*(nll_at_true - nll_at_mle))\n",
    "    \n",
    "    # do fits for approx likelihood\n",
    "\n",
    "    # Fit ratio\n",
    "    cc = cc_decomposed\n",
    "    # do we need to refit since p0 changed?\n",
    "    # oh, should probably go into the nll evaluation\n",
    "    # would be nice if these could be cached... no need to build\n",
    "    # distributions for p0 and p1 for each toy, they will be the same\n",
    "    # not important for a single fit, but is for ensemble tests\n",
    "    #cc.fit(numerator=p0, denominator=p1, n_samples=n_calibration_samples)\n",
    "\n",
    "\n",
    "    def approx_objective(theta):       \n",
    "        return nll_approx(theta[0], data=X_toy)\n",
    "    \n",
    "\n",
    "    results = minimize(approx_objective, x0=[0.1], \n",
    "                       constraints=[{'type':'ineq', 'fun': lambda x: x[0]},\n",
    "                                    {'type':'ineq', 'fun': lambda x: 1. - x[0]},])\n",
    "\n",
    "    # add NLL evaluate at true point\n",
    "    nll_at_mle = results.fun\n",
    "\n",
    "    g.set_value(bump_coefficient)\n",
    "    nll_at_true = approx_objective([bump_coefficient])\n",
    "    approx_nll.append(2.*(nll_at_true - nll_at_mle))\n",
    "    approx_mles.append(results.x[0])\n",
    "    '''\n",
    "    '''\n",
    "\n",
    "\n",
    "    approx_nll.append(2.*(nll_at_true - nll_at_mle))\n",
    "    approx_mles.append(results.x[0])\n",
    "    \n",
    "    if i%100 ==0 :\n",
    "        print(i)\n",
    "        print(\"nll: \", nll_at_mle, nll_at_true)"
   ]
  },
  {
   "cell_type": "code",
   "execution_count": 12,
   "metadata": {
    "collapsed": false
   },
   "outputs": [
    {
     "data": {
      "text/plain": [
       "(0.050114731288578115,\n",
       " 0.05129510571709521,\n",
       " -0.54286922011463024,\n",
       " -8.5552493702607961)"
      ]
     },
     "execution_count": 12,
     "metadata": {},
     "output_type": "execute_result"
    }
   ],
   "source": [
    "true_mles=np.array(true_mles)\n",
    "true_mles=true_mles[np.isfinite(true_mles)]\n",
    "approx_mles=np.array(approx_mles)\n",
    "approx_mles=approx_mles[np.isfinite(approx_mles)]\n",
    "np.mean(true_mles), np.mean(approx_mles),(bump_coefficient-np.mean(true_mles))/(np.std(true_mles)/np.sqrt(true_mles.size)), (bump_coefficient-np.mean(approx_mles))/(np.std(approx_mles)/np.sqrt(approx_mles.size))"
   ]
  },
  {
   "cell_type": "code",
   "execution_count": 13,
   "metadata": {
    "collapsed": false
   },
   "outputs": [
    {
     "data": {
      "image/png": "[encoded data removed]",
      "text/plain": [
       "<matplotlib.figure.Figure at 0x10b537ac8>"
      ]
     },
     "metadata": {},
     "output_type": "display_data"
    }
   ],
   "source": [
    "h = plt.hist(true_mles, bins=30, normed=1, alpha=0.2, color='b')\n",
    "h = plt.hist(approx_mles, bins=h[1], normed=1, alpha=0.2, color='g')\n",
    "plt.vlines(bump_coefficient, 0, h[0].max()+5, linestyles=\"dashed\", label=\"true g\")\n",
    "plt.legend()\n",
    "plt.show()"
   ]
  },
  {
   "cell_type": "code",
   "execution_count": 14,
   "metadata": {
    "collapsed": false
   },
   "outputs": [
    {
     "data": {
      "text/plain": [
       "<matplotlib.text.Text at 0x10684e400>"
      ]
     },
     "execution_count": 14,
     "metadata": {},
     "output_type": "execute_result"
    },
    {
     "data": {
      "image/png": "[encoded data removed]",
      "text/plain": [
       "<matplotlib.figure.Figure at 0x11390cb00>"
      ]
     },
     "metadata": {},
     "output_type": "display_data"
    }
   ],
   "source": [
    "bins = np.linspace(0,9,50)\n",
    "test = np.linspace(0,9,100)\n",
    "true_counts, bins, patches = plt.hist(2*true_nll, bins=bins, normed=1, alpha=0.2)\n",
    "approx_counts, bins, patches = plt.hist(2*approx_nll, bins=bins, normed=1, alpha=0.2)\n",
    "plt.plot(test, chi2.pdf(test,df=1))\n",
    "plt.xlabel('-2 log L(g_true)/L(g_mle)')\n",
    "#plt.ylim(1e-2,5)\n",
    "#plt.semilogy()"
   ]
  },
  {
   "cell_type": "code",
   "execution_count": 15,
   "metadata": {
    "collapsed": false
   },
   "outputs": [
    {
     "data": {
      "text/plain": [
       "<matplotlib.text.Text at 0x113cdf898>"
      ]
     },
     "execution_count": 15,
     "metadata": {},
     "output_type": "execute_result"
    },
    {
     "data": {
      "image/png": "[encoded data removed]",
      "text/plain": [
       "<matplotlib.figure.Figure at 0x1138c87b8>"
      ]
     },
     "metadata": {},
     "output_type": "display_data"
    }
   ],
   "source": [
    "plt.plot(bins[1:], np.cumsum(true_counts)*(bins[1]-bins[0]), c='b')\n",
    "plt.plot(bins[1:], np.cumsum(approx_counts)*(bins[1]-bins[0]), c='green')\n",
    "plt.plot(bins[1:], chi2.cdf(bins[1:],df=1), c='red')\n",
    "plt.xlabel('-2 log L(g_true)/L(g_mle)')"
   ]
  },
  {
   "cell_type": "code",
   "execution_count": 16,
   "metadata": {
    "collapsed": false
   },
   "outputs": [
    {
     "data": {
      "text/plain": [
       "[<matplotlib.lines.Line2D at 0x10fdff780>]"
      ]
     },
     "execution_count": 16,
     "metadata": {},
     "output_type": "execute_result"
    },
    {
     "data": {
      "image/png": "[encoded data removed]",
      "text/plain": [
       "<matplotlib.figure.Figure at 0x1137dfba8>"
      ]
     },
     "metadata": {},
     "output_type": "display_data"
    }
   ],
   "source": [
    "bins = np.linspace(0,3,50)\n",
    "test = np.linspace(0,3,100)\n",
    "counts, bins, patches = plt.hist(np.sqrt(2*true_nll), bins=bins, normed=1, alpha=0.2, color='b')\n",
    "counts, bins, patches = plt.hist(np.sqrt(2*approx_nll), bins=bins, normed=1, alpha=0.2, color='g')\n",
    "plt.plot(test, 2*norm.pdf(test), c='r')"
   ]
  },
  {
   "cell_type": "code",
   "execution_count": null,
   "metadata": {
    "collapsed": true
   },
   "outputs": [],
   "source": []
  },
  {
   "cell_type": "code",
   "execution_count": null,
   "metadata": {
    "collapsed": true
   },
   "outputs": [],
   "source": []
  },
  {
   "cell_type": "code",
   "execution_count": null,
   "metadata": {
    "collapsed": true
   },
   "outputs": [],
   "source": []
  }
 ],
 "metadata": {
  "kernelspec": {
   "display_name": "Python 3",
   "language": "python",
   "name": "python3"
  },
  "language_info": {
   "codemirror_mode": {
    "name": "ipython",
    "version": 3
   },
   "file_extension": ".py",
   "mimetype": "text/x-python",
   "name": "python",
   "nbconvert_exporter": "python",
   "pygments_lexer": "ipython3",
   "version": "3.5.1"
  }
 },
 "nbformat": 4,
 "nbformat_minor": 0
}
