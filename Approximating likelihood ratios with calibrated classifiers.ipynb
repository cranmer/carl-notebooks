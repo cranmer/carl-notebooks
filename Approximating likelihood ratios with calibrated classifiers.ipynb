{
 "cells": [
  {
   "cell_type": "markdown",
   "metadata": {},
   "source": [
    "# Approximating likelihood ratios with calibrated classifiers\n",
    "\n",
    "Gilles Louppe, January 2016.\n"
   ]
  },
  {
   "cell_type": "code",
   "execution_count": 1,
   "metadata": {
    "collapsed": true
   },
   "outputs": [],
   "source": [
    "%matplotlib inline\n",
    "from matplotlib import pyplot as plt\n",
    "import numpy as np\n",
    "import theano\n",
    "import theano.tensor as T"
   ]
  },
  {
   "cell_type": "code",
   "execution_count": 2,
   "metadata": {
    "collapsed": true
   },
   "outputs": [],
   "source": [
    "from sklearn.utils import check_random_state\n",
    "from scipy.optimize import minimize\n",
    "from scipy.stats import chi2, norm"
   ]
  },
  {
   "cell_type": "markdown",
   "metadata": {},
   "source": [
    "## Toy problem\n",
    "\n",
    "Let us consider two 1D distributions $p_0$ and $p_1$ for which we want to approximate the ratio $r(x) = \\frac{p_0(x)}{p_1(x)}$ of their densities.\n",
    "\n",
    "- $p_1$ is defined as a mixture of two gaussians;\n",
    "- $p_0$ is defined as a mixture of the same two gaussians + a bump."
   ]
  },
  {
   "cell_type": "code",
   "execution_count": 3,
   "metadata": {
    "collapsed": false
   },
   "outputs": [],
   "source": [
    "from carl.distributions import Normal\n",
    "from carl.distributions import Mixture\n",
    "\n",
    "components = [\n",
    "    Normal(mu=-2.0, sigma=0.75, random_state=0),   # c0\n",
    "    Normal(mu=0.0, sigma=2.0, random_state=1),     # c1\n",
    "    Normal(mu=1.0, sigma=0.5, random_state=2)      # c2 (bump)\n",
    "]\n",
    "\n",
    "bump_coefficient = 0.05\n",
    "g = theano.shared(bump_coefficient) \n",
    "p0 = Mixture(components=components, weights=[0.5 - g / 2., 0.5 - g / 2., g], random_state=10)\n",
    "p1 = Mixture(components=components[:2], weights=[0.5, 0.5], random_state=11)"
   ]
  },
  {
   "cell_type": "markdown",
   "metadata": {},
   "source": [
    "Note: for $p_0$, weights are all tied together through the Theano shared variable `g`. This means that changes to the value stored in `g` also automatically change the weight values and the resulting mixture."
   ]
  },
  {
   "cell_type": "code",
   "execution_count": 4,
   "metadata": {
    "collapsed": true
   },
   "outputs": [],
   "source": [
    "N_obs_samples=5000\n",
    "X_true = p0.rvs(N_obs_samples)"
   ]
  },
  {
   "cell_type": "code",
   "execution_count": 5,
   "metadata": {
    "collapsed": false
   },
   "outputs": [
    {
     "data": {
      "image/png": "[encoded data removed]",
      "text/plain": [
       "<matplotlib.figure.Figure at 0x11023d0b8>"
      ]
     },
     "metadata": {},
     "output_type": "display_data"
    }
   ],
   "source": [
    "reals = np.linspace(-5, 5, num=1000)\n",
    "plt.plot(reals, p0.pdf(reals.reshape(-1, 1)), label=r\"$p(x|\\theta_0)$\", color=\"b\")\n",
    "plt.plot(reals, p1.pdf(reals.reshape(-1, 1)), label=r\"$p(x|\\theta_1)$\", color=\"r\")\n",
    "plt.hist(X_true[:, 0], bins=100, normed=True, label=\"data\", alpha=0.2, color=\"b\")\n",
    "plt.xlim(-5, 5)\n",
    "plt.legend(loc=\"best\", prop={'size': 8})\n",
    "plt.show()"
   ]
  },
  {
   "cell_type": "markdown",
   "metadata": {},
   "source": [
    "## Density ratio estimation\n",
    "\n",
    "The density ratio $r(x)$ can be approximated using calibrated classifiers, either directly by learning to classify $x \\sim p_0$ from $x \\sim p_1$, or by decomposing the ratio of the two mixtures as pairs of simpler density ratios."
   ]
  },
  {
   "cell_type": "code",
   "execution_count": 6,
   "metadata": {
    "collapsed": false
   },
   "outputs": [
    {
     "name": "stderr",
     "output_type": "stream",
     "text": [
      "//anaconda/envs/carl-notebooks/lib/python3.5/site-packages/sklearn/cross_validation.py:43: DeprecationWarning: This module has been deprecated in favor of the model_selection module into which all the refactored classes and functions are moved. Also note that the interface of the new CV iterators are different from that of this module. This module will be removed in 0.20.\n",
      "  \"This module will be removed in 0.20.\", DeprecationWarning)\n"
     ]
    },
    {
     "data": {
      "text/plain": [
       "DecomposedRatio(base_ratio=ClassifierRatio(base_estimator=CalibratedClassifierCV(base_estimator=MLPRegressor(activation='tanh', algorithm='adam', alpha=0.0001,\n",
       "       batch_size=200, beta_1=0.9, beta_2=0.999, early_stopping=False,\n",
       "       epsilon=1e-08, hidden_layer_sizes=(10, 10),\n",
       "       learning_rate='constant', learning_rate_init=0.001, ma...ter=1, random_state=0, test_size=0.75,\n",
       "            train_size=None),\n",
       "            method='histogram')))"
      ]
     },
     "execution_count": 6,
     "metadata": {},
     "output_type": "execute_result"
    }
   ],
   "source": [
    "from sklearn.model_selection import GridSearchCV\n",
    "from sklearn.model_selection import StratifiedShuffleSplit\n",
    "\n",
    "from carl.ratios import ClassifierRatio\n",
    "from carl.ratios import DecomposedRatio\n",
    "from carl.learning import CalibratedClassifierCV\n",
    "\n",
    "# Classifier\n",
    "# from sklearn.linear_model import ElasticNetCV\n",
    "# clf = ElasticNetCV()\n",
    "\n",
    "from sklearn.neural_network import MLPRegressor\n",
    "clf = MLPRegressor(activation=\"tanh\", hidden_layer_sizes=(10, 10), random_state=0)\n",
    "\n",
    "# from sklearn.ensemble import ExtraTreesRegressor\n",
    "# clf = ExtraTreesRegressor(n_estimators=250, max_leaf_nodes=15)\n",
    "\n",
    "n_train_samples = 100000\n",
    "n_calibration_samples = 100000*5\n",
    "\n",
    "# No calibration\n",
    "cc_none = ClassifierRatio(base_estimator=clf)\n",
    "cc_none.fit(numerator=p0, denominator=p1, n_samples=n_train_samples)\n",
    "\n",
    "# Calibration + Direct approximation \n",
    "cv = StratifiedShuffleSplit(n_iter=1, test_size=0.75, random_state=0)  # 25% for training, 75% for calibration\n",
    "cc_direct = ClassifierRatio(base_estimator=CalibratedClassifierCV(clf, cv=cv))\n",
    "cc_direct.fit(numerator=p0, denominator=p1, n_samples=n_train_samples)\n",
    "\n",
    "# Calibration + Decomposition of the mixture\n",
    "cc_decomposed = DecomposedRatio(ClassifierRatio(base_estimator=CalibratedClassifierCV(clf, cv=cv)))\n",
    "cc_decomposed.fit(numerator=p0, denominator=p1, n_samples=n_calibration_samples)"
   ]
  },
  {
   "cell_type": "markdown",
   "metadata": {},
   "source": [
    "Note: `CalibratedClassifierRatio` takes three arguments for controlling its execution:\n",
    "- `base_estimator` specifying the classifier to be used,\n",
    "- `calibration` specifying the calibration algorithm (`\"kde\"`, `\"histogram\"`, or a user-defined distribution-like object),\n",
    "- `cv` specifying how to allocate data for training and calibration."
   ]
  },
  {
   "cell_type": "code",
   "execution_count": 7,
   "metadata": {
    "collapsed": false
   },
   "outputs": [
    {
     "data": {
      "image/png": "[encoded data removed]",
      "text/plain": [
       "<matplotlib.figure.Figure at 0x11376b8d0>"
      ]
     },
     "metadata": {},
     "output_type": "display_data"
    }
   ],
   "source": [
    "plt.plot(reals, -p0.nnlf(reals.reshape(-1, 1))  \n",
    "                +p1.nnlf(reals.reshape(-1, 1)), label=\"True ratio\")\n",
    "\n",
    "plt.plot(reals, cc_none.predict(reals.reshape(-1, 1), log=True), label=\"No calibration\")\n",
    "plt.plot(reals, cc_direct.predict(reals.reshape(-1, 1), log=True), label=\"Calibration\")\n",
    "plt.plot(reals, cc_decomposed.predict(reals.reshape(-1, 1), log=True), label=\"Calibration + Decomposition\")\n",
    "\n",
    "plt.xlim(-5, 5)\n",
    "plt.ylim(-0.5, 1.)\n",
    "plt.legend(loc=\"best\", prop={'size': 8})\n",
    "plt.show()"
   ]
  },
  {
   "cell_type": "markdown",
   "metadata": {},
   "source": [
    "## Using density ratios for maximum likelihood fit\n",
    "\n",
    "In the likelihood-free setting, density ratios can be used to find the maximum likelihood estimator $\\theta^* = \\arg \\max_{\\theta} p(D | \\theta)$ by noticing that $\\theta^*$ also maximizes $\\prod_{x \\in D} \\frac{p(x|\\theta)}{p(x|\\theta_1)}$ for some fixed value of $\\theta_1$.\n",
    "\n",
    "As an example, this can be used to find the bump coefficient in $p_1$, as illustrated below:"
   ]
  },
  {
   "cell_type": "markdown",
   "metadata": {},
   "source": [
    "## likelihood plot"
   ]
  },
  {
   "cell_type": "code",
   "execution_count": 8,
   "metadata": {
    "collapsed": true
   },
   "outputs": [],
   "source": [
    "def vectorize(func):\n",
    "    def wrapper(X):\n",
    "        v = np.zeros(len(X))\n",
    "        \n",
    "        for i, x_i in enumerate(X):\n",
    "            v[i] = func(x_i)\n",
    "            \n",
    "        return v.reshape(-1, 1)\n",
    "    \n",
    "    return wrapper"
   ]
  },
  {
   "cell_type": "code",
   "execution_count": 9,
   "metadata": {
    "collapsed": false
   },
   "outputs": [],
   "source": [
    "def nll_true(theta, data=X_true):       \n",
    "    g.set_value(theta)  # this indirectly updates weights in p1, \n",
    "                           # along with the density ratios computed by cc \n",
    "                           # (without having to retrain the classifiers since \n",
    "                           # g only affects the weights!)\n",
    "\n",
    "    return (p0.nnlf(data) - p1.nnlf(data)).sum()\n",
    "\n",
    "def nll_approx(theta, data=X_true):       \n",
    "    g.set_value(theta)  # this indirectly updates weights in p1, \n",
    "                           # along with the density ratios computed by cc \n",
    "                           # (without having to retrain the classifiers since \n",
    "                           # g only affects the weights!)\n",
    "\n",
    "    cc = cc_decomposed\n",
    "\n",
    "    # do we need to refit since p0 changed?\n",
    "    cc.fit(numerator=p0, denominator=p1, n_samples=n_calibration_samples)\n",
    "    \n",
    "    return -np.sum(cc.predict(data, log=True))"
   ]
  },
  {
   "cell_type": "code",
   "execution_count": 10,
   "metadata": {
    "collapsed": false
   },
   "outputs": [
    {
     "data": {
      "text/plain": [
       "[<matplotlib.lines.Line2D at 0x10684c208>]"
      ]
     },
     "execution_count": 10,
     "metadata": {},
     "output_type": "execute_result"
    },
    {
     "data": {
      "image/png": "[encoded data removed]",
      "text/plain": [
       "<matplotlib.figure.Figure at 0x10684c438>"
      ]
     },
     "metadata": {},
     "output_type": "display_data"
    }
   ],
   "source": [
    "g_scan = np.linspace(0.0, 2*bump_coefficient,30)\n",
    "nll_true_scan = vectorize(nll_true)(g_scan)\n",
    "nll_approx_scan = vectorize(nll_approx)(g_scan)\n",
    "\n",
    "plt.plot(g_scan, nll_true_scan-nll_true_scan.min())\n",
    "plt.plot(g_scan, nll_approx_scan-nll_approx_scan.min())\n"
   ]
  },
  {
   "cell_type": "markdown",
   "metadata": {},
   "source": [
    "## ensemble tests\n",
    "\n",
    "Noticing some bias, but the bias is also present for the true likelihood"
   ]
  },
  {
   "cell_type": "code",
   "execution_count": 11,
   "metadata": {
    "collapsed": false
   },
   "outputs": [
    {
     "name": "stdout",
     "output_type": "stream",
     "text": [
      "0\n",
      "nll:  -46.548979418 -45.1853088292\n",
      "100\n",
      "nll:  -40.4251760795 -39.9170494247\n"
     ]
    }
   ],
   "source": [
    "n_trials = 200\n",
    "true_mles = []\n",
    "true_nll = []\n",
    "approx_mles = []\n",
    "approx_nll = []\n",
    "\n",
    "for i in range(n_trials):  \n",
    "    # Reset\n",
    "    rng = check_random_state(i)\n",
    "    p0.set_params(random_state=rng)\n",
    "    p1.set_params(random_state=rng)\n",
    "    \n",
    "    g.set_value(bump_coefficient)\n",
    "    X_toy = p0.rvs(N_obs_samples)\n",
    "    \n",
    "    # Fit ratio\n",
    "    cc = cc_decomposed\n",
    "\n",
    "    # do we need to refit since p0 changed?\n",
    "    # oh, should probably go into the nll evaluation\n",
    "    # would be nice if these could be cached... no need to build\n",
    "    # distributions for p0 and p1 for each toy, they will be the same\n",
    "    # not important for a single fit, but is for ensemble tests\n",
    "    #cc.fit(numerator=p0, denominator=p1, n_samples=n_calibration_samples)\n",
    "\n",
    "    # do fits for true likelihood\n",
    "    def true_objective(theta):       \n",
    "        return nll_true(theta[0], data=X_toy)\n",
    "\n",
    "    \n",
    "    results = minimize(true_objective, x0=[0.1], \n",
    "                       constraints=[{'type':'ineq', 'fun': lambda x: x[0]},\n",
    "                                    {'type':'ineq', 'fun': lambda x: 1. - x[0]},])\n",
    "\n",
    "    # add NLL evaluate at true point\n",
    "    nll_at_mle = results.fun\n",
    "\n",
    "    g.set_value(bump_coefficient)\n",
    "    nll_at_true = true_objective([bump_coefficient])\n",
    "    true_nll.append(2.*(nll_at_true - nll_at_mle))\n",
    "    true_mles.append(results.x[0])\n",
    "    \n",
    "    '''\n",
    "    # do fits for approx likelihood\n",
    "    def approx_objective(theta):       \n",
    "        return nll_approx(theta[0], data=X_toy)\n",
    "    \n",
    "\n",
    "    results = minimize(approx_objective, x0=[0.1], \n",
    "                       constraints=[{'type':'ineq', 'fun': lambda x: x[0]},\n",
    "                                    {'type':'ineq', 'fun': lambda x: 1. - x[0]},])\n",
    "\n",
    "    # add NLL evaluate at true point\n",
    "    nll_at_mle = results.fun\n",
    "\n",
    "    g.set_value(bump_coefficient)\n",
    "    nll_at_true = approx_objective([bump_coefficient])\n",
    "    approx_nll.append(2.*(nll_at_true - nll_at_mle))\n",
    "    approx_mles.append(results.x[0])\n",
    "    '''\n",
    "    approx_nll.append(2.*(nll_at_true - nll_at_mle))\n",
    "    approx_mles.append(results.x[0])\n",
    "    \n",
    "    if i%100 ==0 :\n",
    "        print(i)\n",
    "        print(\"nll: \", nll_at_mle, nll_at_true)"
   ]
  },
  {
   "cell_type": "code",
   "execution_count": 12,
   "metadata": {
    "collapsed": false
   },
   "outputs": [
    {
     "data": {
      "text/plain": [
       "(0.054953660443257293, 0.054953660443257293)"
      ]
     },
     "execution_count": 12,
     "metadata": {},
     "output_type": "execute_result"
    }
   ],
   "source": [
    "true_mles=np.array(true_mles)\n",
    "true_mles=true_mles[np.isfinite(true_mles)]\n",
    "approx_mles=np.array(approx_mles)\n",
    "approx_mles=approx_mles[np.isfinite(approx_mles)]\n",
    "np.mean(true_mles), np.mean(approx_mles)"
   ]
  },
  {
   "cell_type": "code",
   "execution_count": 13,
   "metadata": {
    "collapsed": false
   },
   "outputs": [
    {
     "data": {
      "image/png": "[encoded data removed]",
      "text/plain": [
       "<matplotlib.figure.Figure at 0x1068606a0>"
      ]
     },
     "metadata": {},
     "output_type": "display_data"
    }
   ],
   "source": [
    "h = plt.hist(true_mles, bins=30, normed=1, alpha=0.2, color='b')\n",
    "h = plt.hist(approx_mles, bins=h[1], normed=1, alpha=0.2, color='g')\n",
    "plt.vlines(bump_coefficient, 0, h[0].max()+5, linestyles=\"dashed\", label=\"true g\")\n",
    "plt.legend()\n",
    "plt.show()"
   ]
  },
  {
   "cell_type": "code",
   "execution_count": 14,
   "metadata": {
    "collapsed": false
   },
   "outputs": [
    {
     "data": {
      "text/plain": [
       "<matplotlib.text.Text at 0x114f90c88>"
      ]
     },
     "execution_count": 14,
     "metadata": {},
     "output_type": "execute_result"
    },
    {
     "data": {
      "image/png": "[encoded data removed]",
      "text/plain": [
       "<matplotlib.figure.Figure at 0x113f30da0>"
      ]
     },
     "metadata": {},
     "output_type": "display_data"
    }
   ],
   "source": [
    "bins = np.linspace(0,3,50)\n",
    "test = np.linspace(0,3,100)\n",
    "true_counts, bins, patches = plt.hist(2*true_nll, bins=bins, normed=1, alpha=0.2)\n",
    "approx_counts, bins, patches = plt.hist(2*approx_nll, bins=bins, normed=1, alpha=0.2)\n",
    "plt.plot(test, chi2.pdf(test,df=1))\n",
    "plt.xlabel('-2 log L(g_true)/L(g_mle)')\n",
    "#plt.ylim(1e-2,5)\n",
    "#plt.semilogy()"
   ]
  },
  {
   "cell_type": "code",
   "execution_count": 15,
   "metadata": {
    "collapsed": false
   },
   "outputs": [
    {
     "data": {
      "text/plain": [
       "<matplotlib.text.Text at 0x114065eb8>"
      ]
     },
     "execution_count": 15,
     "metadata": {},
     "output_type": "execute_result"
    },
    {
     "data": {
      "image/png": "[encoded data removed]",
      "text/plain": [
       "<matplotlib.figure.Figure at 0x113ea2208>"
      ]
     },
     "metadata": {},
     "output_type": "display_data"
    }
   ],
   "source": [
    "plt.plot(bins[1:], np.cumsum(true_counts)*(bins[1]-bins[0]), c='b')\n",
    "plt.plot(bins[1:], np.cumsum(approx_counts)*(bins[1]-bins[0]), c='green')\n",
    "plt.plot(bins[1:], chi2.cdf(bins[1:],df=1), c='red')\n",
    "plt.xlabel('-2 log L(g_true)/L(g_mle)')"
   ]
  },
  {
   "cell_type": "code",
   "execution_count": 16,
   "metadata": {
    "collapsed": false
   },
   "outputs": [
    {
     "data": {
      "text/plain": [
       "[<matplotlib.lines.Line2D at 0x10f1a9940>]"
      ]
     },
     "execution_count": 16,
     "metadata": {},
     "output_type": "execute_result"
    },
    {
     "data": {
      "image/png": "[encoded data removed]",
      "text/plain": [
       "<matplotlib.figure.Figure at 0x113e8fda0>"
      ]
     },
     "metadata": {},
     "output_type": "display_data"
    }
   ],
   "source": [
    "counts, bins, patches = plt.hist(np.sqrt(2*true_nll), bins=bins, normed=1, alpha=0.2, color='b')\n",
    "counts, bins, patches = plt.hist(np.sqrt(2*approx_nll), bins=bins, normed=1, alpha=0.2, color='g')\n",
    "plt.plot(test, 2*norm.pdf(test), c='r')"
   ]
  },
  {
   "cell_type": "code",
   "execution_count": null,
   "metadata": {
    "collapsed": true
   },
   "outputs": [],
   "source": []
  },
  {
   "cell_type": "code",
   "execution_count": null,
   "metadata": {
    "collapsed": true
   },
   "outputs": [],
   "source": []
  },
  {
   "cell_type": "code",
   "execution_count": null,
   "metadata": {
    "collapsed": true
   },
   "outputs": [],
   "source": []
  }
 ],
 "metadata": {
  "kernelspec": {
   "display_name": "Python 3",
   "language": "python",
   "name": "python3"
  },
  "language_info": {
   "codemirror_mode": {
    "name": "ipython",
    "version": 3
   },
   "file_extension": ".py",
   "mimetype": "text/x-python",
   "name": "python",
   "nbconvert_exporter": "python",
   "pygments_lexer": "ipython3",
   "version": "3.5.1"
  }
 },
 "nbformat": 4,
 "nbformat_minor": 0
}
